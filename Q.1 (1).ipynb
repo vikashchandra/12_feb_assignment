{
 "cells": [
  {
   "cell_type": "code",
   "execution_count": null,
   "id": "83505575-c807-4e2c-86ee-0b9b8c2a45db",
   "metadata": {},
   "outputs": [],
   "source": [
    "\"\"\"\n",
    "Q.1  What is an exception in python? write the difference \n",
    "between exception and syntax errors.\n",
    "\n",
    "solution:\n",
    "\n",
    "In Python, an exception is an event or condition that occurs \n",
    "during the execution of a program that disrupts the normal flow \n",
    "of the program's instructions. When an exception occurs, Python\n",
    "raises an exception object, which contains information about the\n",
    "error, such as its type and a traceback that shows where the error\n",
    "occurred in the code. Exception handling allows you to handle \n",
    "these errors gracefully, preventing your program from crashing\n",
    "and providing a way to respond to the error.\n",
    "\n",
    "There are two main types of exceptions in Python:\n",
    "\n",
    "Built-in Exceptions: These are exceptions that are defined in\n",
    "the Python language itself and are raised for common types of\n",
    "errors. Some examples include:\n",
    "\n",
    "Zero Division Error: Raised when attempting to divide by zero.\n",
    "\n",
    "TypeError: Raised when an operation is performed on an object of\n",
    "an inappropriate type.\n",
    "\n",
    "FileNotFoundError: Raised when attempting to open a file that\n",
    "doesn't exist.\n",
    "\n",
    "IndexError: Raised when trying to access an index that is out of\n",
    "range for a sequence (e.g., list, tuple).\n",
    "\n",
    "User-Defined Exceptions: These are exceptions that you define \n",
    "yourself by creating a new class that inherits from the \n",
    "BaseException class or one of its subclasses. You can raise these\n",
    "exceptions when specific conditions in your code are met.\n",
    "\n",
    "Now, let's address the part about \"$yntax errors.\" It appears \n",
    "there might be a typo or formatting issue in your question.\n",
    "If you meant to ask about \"syntax errors,\" they are different \n",
    "from exceptions:\n",
    "\n",
    "Syntax Errors: These occur when you write code that violates the\n",
    "syntax rules of the Python language. Syntax errors are detected\n",
    "by the Python interpreter during the parsing phase before your \n",
    "code is executed. They typically result from typos,\n",
    "missing colons, incorrect indentation, or other structural \n",
    "issues in your code. Syntax errors prevent your code from running\n",
    "at all.\n",
    "\n",
    "\"\"\""
   ]
  }
 ],
 "metadata": {
  "kernelspec": {
   "display_name": "Python 3 (ipykernel)",
   "language": "python",
   "name": "python3"
  },
  "language_info": {
   "codemirror_mode": {
    "name": "ipython",
    "version": 3
   },
   "file_extension": ".py",
   "mimetype": "text/x-python",
   "name": "python",
   "nbconvert_exporter": "python",
   "pygments_lexer": "ipython3",
   "version": "3.10.8"
  }
 },
 "nbformat": 4,
 "nbformat_minor": 5
}
