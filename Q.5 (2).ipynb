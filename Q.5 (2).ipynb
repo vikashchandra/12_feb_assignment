{
 "cells": [
  {
   "cell_type": "code",
   "execution_count": null,
   "id": "7608bbee-ba1f-4884-8ffe-648db717bab5",
   "metadata": {},
   "outputs": [],
   "source": [
    "\"\"\"\n",
    "Q.5. what are custom exception in python ? why do we need custom \n",
    "exception? explain with an example.\n",
    "\n",
    "solution:\n",
    "In Python, custom exceptions are user-defined exceptions that you\n",
    "create to handle specific error conditions or exceptional\n",
    "situations that may arise in your code. While Python provides a \n",
    "wide range of built-in exceptions, there are cases where these \n",
    "built-in exceptions may not fully capture the nature of an error\n",
    "or where you want to provide more context or information when an \n",
    "error occurs. Custom exceptions allow you to define your own\n",
    "exception classes tailored to your application's needs.\n",
    "\n",
    "Here's why you might need custom exceptions:\n",
    "\n",
    "Clarity and Readability: Custom exceptions can make your code \n",
    "more readable and maintainable. When you raise a custom \n",
    "exception, it communicates the specific error condition to other\n",
    "developers who may work with your code, making it easier to \n",
    "understand the intent and context of the error.\n",
    "\n",
    "Granularity: Built-in exceptions are often broad and generic,\n",
    "which may not provide enough information about the specific error.\n",
    "ustom exceptions allow you to define more specific error types,\n",
    "providing finer granularity in error handling.\n",
    "\n",
    "Consistency: By creating custom exceptions for specific error \n",
    "cases, you can enforce a consistent error-handling pattern\n",
    "throughout your codebase, making it easier to debug and maintain.\n",
    "\n",
    "\n",
    "Here's an example of how to create and use a custom exception in\n",
    "Python:\n",
    "\"\"\"\n"
   ]
  },
  {
   "cell_type": "code",
   "execution_count": 1,
   "id": "6e03f8cd-f094-4238-a234-4ead59332b3d",
   "metadata": {},
   "outputs": [
    {
     "name": "stdout",
     "output_type": "stream",
     "text": [
      "Error: Negative value (-4) is not allowed.\n"
     ]
    }
   ],
   "source": [
    "\n",
    "class NegativeValueError(Exception):\n",
    "    \"\"\"Custom exception for handling negative values.\"\"\"\n",
    "    def __init__(self, value):\n",
    "        self.value = value\n",
    "        super().__init__(f\"Negative value ({self.value}) is not allowed.\")\n",
    "\n",
    "def calculate_square_root(number):\n",
    "    if number < 0:\n",
    "        raise NegativeValueError(number)\n",
    "    return number ** 0.5\n",
    "\n",
    "try:\n",
    "    result = calculate_square_root(-4)\n",
    "except NegativeValueError as e:\n",
    "    print(f\"Error: {e}\")\n",
    "else:\n",
    "    print(f\"Square root: {result}\")"
   ]
  },
  {
   "cell_type": "code",
   "execution_count": null,
   "id": "51cda9aa-3ee7-4037-ace6-fd7e95a874c7",
   "metadata": {},
   "outputs": [],
   "source": []
  }
 ],
 "metadata": {
  "kernelspec": {
   "display_name": "Python 3 (ipykernel)",
   "language": "python",
   "name": "python3"
  },
  "language_info": {
   "codemirror_mode": {
    "name": "ipython",
    "version": 3
   },
   "file_extension": ".py",
   "mimetype": "text/x-python",
   "name": "python",
   "nbconvert_exporter": "python",
   "pygments_lexer": "ipython3",
   "version": "3.10.8"
  }
 },
 "nbformat": 4,
 "nbformat_minor": 5
}
