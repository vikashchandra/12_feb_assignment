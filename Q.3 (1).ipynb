{
 "cells": [
  {
   "cell_type": "code",
   "execution_count": null,
   "id": "b975f861-6dfb-4141-bb99-1e9dc080bf46",
   "metadata": {},
   "outputs": [],
   "source": [
    "\"\"\"\n",
    "Q.3. which python statement  are used to catch and handle \n",
    "exception? explain with an example.\n",
    "\n",
    "solution:\n",
    "In Python, you can use try, except, finally, and optionally,\n",
    "else statements to catch and handle exceptions. Exception handling\n",
    "is a way to gracefully deal with errors and prevent your program \n",
    "from crashing when unexpected issues arise.\n",
    "\n",
    "Here's a breakdown of these statements along with an example:\n",
    "\n",
    "1. try block: This is where you place the code that might raise \n",
    "an exception.\n",
    "\n",
    "2. except block: This block is executed when an exception is \n",
    "raised in the corresponding try block. You can specify the type \n",
    "of exception you want to catch, or you can use a generic except \n",
    "block to catch any exception. Multiple except blocks can be used \n",
    "to catch different types of exceptions.\n",
    "\n",
    "3. else block (optional): This block is executed if no exceptions\n",
    "are raised in the try block. It's useful for handling code that \n",
    "should run only if the try block executes successfully.\n",
    "\n",
    "4. finally block (optional): This block is executed whether an \n",
    "exception is raised or not. It's often used for cleanup\n",
    "operations, such as closing files or releasing resources.\n",
    "\n",
    "Here's an example to illustrate how these statements work\n",
    "together:\n",
    "\n",
    "\"\"\""
   ]
  },
  {
   "cell_type": "code",
   "execution_count": 1,
   "id": "0f453612-694b-4933-a724-1732ee0e9a5f",
   "metadata": {},
   "outputs": [
    {
     "name": "stdin",
     "output_type": "stream",
     "text": [
      "Enter a number:  50\n",
      "Enter another number:  5\n"
     ]
    },
    {
     "name": "stdout",
     "output_type": "stream",
     "text": [
      "Result of division: 10.0\n",
      "Execution finished. Goodbye!\n"
     ]
    }
   ],
   "source": [
    "\n",
    "try:\n",
    "    num1 = int(input(\"Enter a number: \"))\n",
    "    num2 = int(input(\"Enter another number: \"))\n",
    "    result = num1 / num2\n",
    "except ZeroDivisionError:\n",
    "    print(\"Error: Division by zero is not allowed.\")\n",
    "except ValueError:\n",
    "    print(\"Error: Invalid input. Please enter valid numbers.\")\n",
    "else:\n",
    "    print(f\"Result of division: {result}\")\n",
    "finally:\n",
    "    print(\"Execution finished. Goodbye!\")\n"
   ]
  },
  {
   "cell_type": "code",
   "execution_count": null,
   "id": "47239b1f-e1c6-458b-ae32-2ed93117e57c",
   "metadata": {},
   "outputs": [],
   "source": [
    "\"\"\"\n",
    "In this example:\n",
    "\n",
    "The try block takes user input for two numbers and performs \n",
    "division.\n",
    "If the user enters invalid input (e.g., non-numeric characters),\n",
    "a ValueError is raised.\n",
    "If the user tries to divide by zero, a ZeroDivisionError is \n",
    "raised.\n",
    "The except blocks catch these exceptions and handle them by \n",
    "displaying error messages.\n",
    "If no exceptions occur, the else block prints the result of the\n",
    "division.\n",
    "The finally block is executed no matter what and prints a goodbye\n",
    "message.\n",
    "This code demonstrates how you can use exception handling to make\n",
    "your code more robust and handle unexpected situations gracefully.\n",
    "\"\"\""
   ]
  }
 ],
 "metadata": {
  "kernelspec": {
   "display_name": "Python 3 (ipykernel)",
   "language": "python",
   "name": "python3"
  },
  "language_info": {
   "codemirror_mode": {
    "name": "ipython",
    "version": 3
   },
   "file_extension": ".py",
   "mimetype": "text/x-python",
   "name": "python",
   "nbconvert_exporter": "python",
   "pygments_lexer": "ipython3",
   "version": "3.10.8"
  }
 },
 "nbformat": 4,
 "nbformat_minor": 5
}
