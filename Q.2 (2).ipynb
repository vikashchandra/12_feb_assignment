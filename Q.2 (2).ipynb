{
 "cells": [
  {
   "cell_type": "code",
   "execution_count": null,
   "id": "d0f67267-b4ce-45d4-ac51-452992b2c7bb",
   "metadata": {},
   "outputs": [],
   "source": [
    "\"\"\"\n",
    "Q.2 What  happens when  an exception is not handled? Explain with\n",
    "an example.\n",
    "\n",
    "solution:\n",
    "When an exception is not handled in a program, it typically \n",
    "results in the program terminating abruptly. In many programming \n",
    "languages, an unhandled exception will cause the program to crash,\n",
    "and an error message or stack trace is often displayed to help\n",
    "developers diagnose the issue. This can lead to a poor user \n",
    "experience and may also leave the program in an inconsistent \n",
    "state.\n",
    "\n",
    "Here's an example in Python to illustrate what happens when an \n",
    "exception is not handled:\n",
    "\"\"\"\n"
   ]
  },
  {
   "cell_type": "code",
   "execution_count": 1,
   "id": "c816dd37-2fb1-4d0a-b92e-6e95c551d419",
   "metadata": {},
   "outputs": [
    {
     "ename": "ZeroDivisionError",
     "evalue": "division by zero",
     "output_type": "error",
     "traceback": [
      "\u001b[0;31m---------------------------------------------------------------------------\u001b[0m",
      "\u001b[0;31mZeroDivisionError\u001b[0m                         Traceback (most recent call last)",
      "Cell \u001b[0;32mIn[1], line 7\u001b[0m\n\u001b[1;32m      4\u001b[0m num1 \u001b[38;5;241m=\u001b[39m \u001b[38;5;241m10\u001b[39m\n\u001b[1;32m      5\u001b[0m num2 \u001b[38;5;241m=\u001b[39m \u001b[38;5;241m0\u001b[39m\n\u001b[0;32m----> 7\u001b[0m result \u001b[38;5;241m=\u001b[39m \u001b[43mdivide_numbers\u001b[49m\u001b[43m(\u001b[49m\u001b[43mnum1\u001b[49m\u001b[43m,\u001b[49m\u001b[43m \u001b[49m\u001b[43mnum2\u001b[49m\u001b[43m)\u001b[49m\n\u001b[1;32m      8\u001b[0m \u001b[38;5;28mprint\u001b[39m(\u001b[38;5;124mf\u001b[39m\u001b[38;5;124m\"\u001b[39m\u001b[38;5;124mThe result of the division is: \u001b[39m\u001b[38;5;132;01m{\u001b[39;00mresult\u001b[38;5;132;01m}\u001b[39;00m\u001b[38;5;124m\"\u001b[39m)\n",
      "Cell \u001b[0;32mIn[1], line 2\u001b[0m, in \u001b[0;36mdivide_numbers\u001b[0;34m(a, b)\u001b[0m\n\u001b[1;32m      1\u001b[0m \u001b[38;5;28;01mdef\u001b[39;00m \u001b[38;5;21mdivide_numbers\u001b[39m(a, b):\n\u001b[0;32m----> 2\u001b[0m     \u001b[38;5;28;01mreturn\u001b[39;00m \u001b[43ma\u001b[49m\u001b[43m \u001b[49m\u001b[38;5;241;43m/\u001b[39;49m\u001b[43m \u001b[49m\u001b[43mb\u001b[49m\n",
      "\u001b[0;31mZeroDivisionError\u001b[0m: division by zero"
     ]
    }
   ],
   "source": [
    "\n",
    "def divide_numbers(a, b):\n",
    "    return a / b\n",
    "\n",
    "num1 = 10\n",
    "num2 = 0\n",
    "\n",
    "result = divide_numbers(num1, num2)\n",
    "print(f\"The result of the division is: {result}\")\n"
   ]
  },
  {
   "cell_type": "code",
   "execution_count": null,
   "id": "a6c8078c-9775-4d01-98f2-b58c61a505cb",
   "metadata": {},
   "outputs": [],
   "source": [
    "\"\"\"\n",
    "In this example, we have a function divide_numbers that attempts\n",
    "to divide num1 by num2. However, num2 is set to 0, which would\n",
    "result in a ZeroDivisionError when attempting to perform the \n",
    "division.\n",
    "\n",
    "If we run this code without any exception handling, the program \n",
    "will raise an unhandled exception and terminate with an error\n",
    "message like this:\n",
    "\n",
    "\n",
    "ZeroDivisionError: division by zero\n",
    "\n",
    "In this case, the program crashed due to an unhandled exception.\n",
    "It didn't provide any graceful way to recover from the error or\n",
    "handle it in a controlled manner.\n",
    "\n",
    "To handle exceptions and prevent such crashes, you can use a try \n",
    "and except block to catch and manage exceptions:\n",
    "\n",
    "\"\"\""
   ]
  },
  {
   "cell_type": "code",
   "execution_count": 2,
   "id": "173e6edf-0c4d-45e5-b89b-5197def8a28f",
   "metadata": {},
   "outputs": [
    {
     "name": "stdout",
     "output_type": "stream",
     "text": [
      "Error: division by zero\n",
      "Division cannot be performed.\n"
     ]
    }
   ],
   "source": [
    "\n",
    "def divide_numbers(a, b):\n",
    "    try:\n",
    "        result = a / b\n",
    "        return result\n",
    "    except ZeroDivisionError as e:\n",
    "        print(f\"Error: {e}\")\n",
    "        return None\n",
    "\n",
    "num1 = 10\n",
    "num2 = 0\n",
    "\n",
    "result = divide_numbers(num1, num2)\n",
    "if result is not None:\n",
    "    print(f\"The result of the division is: {result}\")\n",
    "else:\n",
    "    print(\"Division cannot be performed.\")\n"
   ]
  },
  {
   "cell_type": "code",
   "execution_count": null,
   "id": "397458fc-7844-4553-805c-eb817d843e0b",
   "metadata": {},
   "outputs": [],
   "source": [
    "\n",
    "\"\"\"\n",
    "In this updated code, we catch the ZeroDivisionError exception\n",
    "and handle it gracefully by printing an error message and \n",
    "returning None. This way, the program continues running, and we \n",
    "can provide appropriate feedback to the user rather than crashing\n",
    "unexpectedly.\n",
    "\"\"\""
   ]
  }
 ],
 "metadata": {
  "kernelspec": {
   "display_name": "Python 3 (ipykernel)",
   "language": "python",
   "name": "python3"
  },
  "language_info": {
   "codemirror_mode": {
    "name": "ipython",
    "version": 3
   },
   "file_extension": ".py",
   "mimetype": "text/x-python",
   "name": "python",
   "nbconvert_exporter": "python",
   "pygments_lexer": "ipython3",
   "version": "3.10.8"
  }
 },
 "nbformat": 4,
 "nbformat_minor": 5
}
