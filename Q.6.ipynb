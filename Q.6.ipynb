{
 "cells": [
  {
   "cell_type": "code",
   "execution_count": null,
   "id": "f866a2e1-22ee-4a12-b611-824423f09b74",
   "metadata": {},
   "outputs": [],
   "source": [
    "\"\"\"\n",
    "Q.6. create  a custom exception class in python. use this class \n",
    "to handle exception.\n",
    "\n",
    "solution:\n",
    "You can create a custom exception class in Python by defining a\n",
    "new class that inherits from the built-in Exception class or one\n",
    "of its subclasses. Here's an example of how to create a custom\n",
    "exception class and then use it to handle exceptions:\n",
    "\"\"\"\n"
   ]
  },
  {
   "cell_type": "code",
   "execution_count": 1,
   "id": "5e6c525c-3c7e-47ff-91f2-ea4f8e5ddfd0",
   "metadata": {},
   "outputs": [
    {
     "name": "stdout",
     "output_type": "stream",
     "text": [
      "Custom Exception: Division by zero is not allowed\n"
     ]
    }
   ],
   "source": [
    "# Define a custom exception class\n",
    "class CustomException(Exception):\n",
    "    def __init__(self, message):\n",
    "        super().__init__(message)\n",
    "\n",
    "# Function that raises the custom exception\n",
    "def divide(a, b):\n",
    "    if b == 0:\n",
    "        raise CustomException(\"Division by zero is not allowed\")\n",
    "    return a / b\n",
    "\n",
    "# Example of using the custom exception\n",
    "try:\n",
    "    result = divide(10, 0)\n",
    "except CustomException as e:\n",
    "    print(f\"Custom Exception: {e}\")\n",
    "else:\n",
    "    print(f\"Result: {result}\")\n"
   ]
  },
  {
   "cell_type": "code",
   "execution_count": null,
   "id": "a4b47a64-e21a-4fa8-be3a-ae937a92781e",
   "metadata": {},
   "outputs": [],
   "source": []
  }
 ],
 "metadata": {
  "kernelspec": {
   "display_name": "Python 3 (ipykernel)",
   "language": "python",
   "name": "python3"
  },
  "language_info": {
   "codemirror_mode": {
    "name": "ipython",
    "version": 3
   },
   "file_extension": ".py",
   "mimetype": "text/x-python",
   "name": "python",
   "nbconvert_exporter": "python",
   "pygments_lexer": "ipython3",
   "version": "3.10.8"
  }
 },
 "nbformat": 4,
 "nbformat_minor": 5
}
