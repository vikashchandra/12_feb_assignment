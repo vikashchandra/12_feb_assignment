{
 "cells": [
  {
   "cell_type": "code",
   "execution_count": null,
   "id": "686fca46-b7cd-4d22-9561-32956c48b165",
   "metadata": {},
   "outputs": [],
   "source": [
    "\"\"\"\n",
    "Q.4. Explain with an example .\n",
    "(a) try and else\n",
    "(b) finally\n",
    "(c) raise\n",
    "solution:\n",
    "try and else=>\n",
    "In programming, a \"try\" and \"else\" block is a way to handle \n",
    "exceptions or errors that might occur in a piece of code. The \n",
    "\"try\" block contains the code that you want to attempt, and the \n",
    "\"else\" block contains code that should be executed if no \n",
    "exceptions are raised in the \"try\" block.\n",
    "\n",
    "Here's a simple example in Python to illustrate how \"try\" and \n",
    "\"else\" work:\n",
    "\"\"\"\n"
   ]
  },
  {
   "cell_type": "code",
   "execution_count": 1,
   "id": "80b37839-06cf-45fa-8d35-33d0d0bd617e",
   "metadata": {},
   "outputs": [
    {
     "name": "stdin",
     "output_type": "stream",
     "text": [
      "Enter a number:  vikash\n"
     ]
    },
    {
     "name": "stdout",
     "output_type": "stream",
     "text": [
      "Invalid input. Please enter a valid number.\n"
     ]
    }
   ],
   "source": [
    "\n",
    "try:\n",
    "    # Code that may raise an exception\n",
    "    x = int(input(\"Enter a number: \"))  # This line may raise a ValueError if the input is not a valid integer.\n",
    "except ValueError:\n",
    "    # Code to handle the exception\n",
    "    print(\"Invalid input. Please enter a valid number.\")\n",
    "else:\n",
    "    # Code to execute if no exception was raised\n",
    "    print(f\"You entered the number {x}.\")\n"
   ]
  },
  {
   "cell_type": "code",
   "execution_count": 2,
   "id": "35adc0e5-4318-40b9-9a13-7da1bc0bfa70",
   "metadata": {},
   "outputs": [
    {
     "name": "stdin",
     "output_type": "stream",
     "text": [
      "Enter a number:  420\n"
     ]
    },
    {
     "name": "stdout",
     "output_type": "stream",
     "text": [
      "You entered the number 420.\n"
     ]
    }
   ],
   "source": [
    "try:\n",
    "    # Code that may raise an exception\n",
    "    x = int(input(\"Enter a number: \"))  # This line may raise a ValueError if the input is not a valid integer.\n",
    "except ValueError:\n",
    "    # Code to handle the exception\n",
    "    print(\"Invalid input. Please enter a valid number.\")\n",
    "else:\n",
    "    # Code to execute if no exception was raised\n",
    "    print(f\"You entered the number {x}.\")"
   ]
  },
  {
   "cell_type": "code",
   "execution_count": null,
   "id": "f1058f8a-fdfd-4f88-b58b-5e8178088aec",
   "metadata": {},
   "outputs": [],
   "source": [
    "\"\"\"\n",
    "In this example:\n",
    "\n",
    "The \"try\" block contains code that attempts to convert user input \n",
    "into an integer. If the user enters a value that cannot be\n",
    "converted to an integer, a ValueError exception will be raised.\n",
    "\n",
    "The \"except\" block catches the exception (in this case, \n",
    "ValueError) and handles it by displaying an error message.\n",
    "\n",
    "The \"else\" block contains code that will be executed if no \n",
    "exception is raised in the \"try\" block. If the user enters a\n",
    "valid integer, this block will execute and display the entered\n",
    "number.\n",
    "\"\"\""
   ]
  },
  {
   "cell_type": "code",
   "execution_count": 3,
   "id": "965f4f2b-4387-48c5-b49f-817c4c8d252a",
   "metadata": {},
   "outputs": [
    {
     "name": "stdout",
     "output_type": "stream",
     "text": [
      "A division by zero error occurred.\n",
      "This code will always execute, whether an exception occurred or not.\n",
      "Program continues after the try-except-finally block.\n"
     ]
    }
   ],
   "source": [
    "\"\"\"\n",
    "finally=>\n",
    "\n",
    "In Python, the finally block is used in conjunction with the try\n",
    "and except blocks to define code that must be executed regardless\n",
    "of whether an exception is raised or not. This is commonly used \n",
    "for tasks that need to be performed to clean up resources or\n",
    "ensure certain operations are always executed, such as closing \n",
    "files or database connections.\n",
    "\n",
    "Here's an example in Python:\n",
    "\n",
    "\"\"\"\n",
    "try:\n",
    "    # Code that may raise an exception\n",
    "    x = 10 / 0  # This will raise a ZeroDivisionError\n",
    "except ZeroDivisionError:\n",
    "    print(\"A division by zero error occurred.\")\n",
    "finally:\n",
    "    print(\"This code will always execute, whether an exception occurred or not.\")\n",
    "\n",
    "print(\"Program continues after the try-except-finally block.\")"
   ]
  },
  {
   "cell_type": "code",
   "execution_count": 4,
   "id": "15c0ba19-e2cc-468c-92e6-915c29c8be8f",
   "metadata": {},
   "outputs": [
    {
     "name": "stdout",
     "output_type": "stream",
     "text": [
      "Caught an exception: Division by zero is not allowed.\n"
     ]
    }
   ],
   "source": [
    "\"\"\"\n",
    "raise=>\n",
    "\n",
    "In Python, the raise statement is used to deliberately raise \n",
    "exceptions or errors in your code. You can use it to signal that \n",
    "something unexpected or exceptional has occurred during the \n",
    "execution of your program. Here's an example of how to use the\n",
    "raise statement in Python:\n",
    "\n",
    "\"\"\"\n",
    "def divide(x, y):\n",
    "    if y == 0:\n",
    "        raise ZeroDivisionError(\"Division by zero is not allowed.\")\n",
    "    return x / y\n",
    "\n",
    "try:\n",
    "    result = divide(10, 0)\n",
    "except ZeroDivisionError as e:\n",
    "    print(f\"Caught an exception: {e}\")\n",
    "else:\n",
    "    print(f\"The result is: {result}\")"
   ]
  },
  {
   "cell_type": "code",
   "execution_count": null,
   "id": "e0b5a08f-0383-45cc-be70-64a1f402c65e",
   "metadata": {},
   "outputs": [],
   "source": []
  }
 ],
 "metadata": {
  "kernelspec": {
   "display_name": "Python 3 (ipykernel)",
   "language": "python",
   "name": "python3"
  },
  "language_info": {
   "codemirror_mode": {
    "name": "ipython",
    "version": 3
   },
   "file_extension": ".py",
   "mimetype": "text/x-python",
   "name": "python",
   "nbconvert_exporter": "python",
   "pygments_lexer": "ipython3",
   "version": "3.10.8"
  }
 },
 "nbformat": 4,
 "nbformat_minor": 5
}
